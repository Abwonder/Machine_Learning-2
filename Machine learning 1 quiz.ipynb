{
 "cells": [
  {
   "cell_type": "markdown",
   "id": "75544143",
   "metadata": {},
   "source": [
    "### Quiz"
   ]
  },
  {
   "cell_type": "markdown",
   "id": "64395f7b",
   "metadata": {},
   "source": [
    "1.What is overfitting in machine learning?\n",
    "\n",
    "When the model fits the training data too well and performs poorly on new data\n",
    "\n",
    "\n",
    "\n",
    "Explanation: Overfitting occurs when a machine learning model is too complex and tries to fit the noise or random fluctuations in the training data. As a result, it performs very well on the training data but poorly on new or unseen data.\n",
    "\n",
    "\n",
    "Overfitting is a common problem in machine learning where a model learns the training data too well, including the noise and random fluctuations in the data1. This results in a model that performs well on the training data but poorly on new, unseen data. In other words, an overfitted model has low bias but high variance1. To prevent overfitting, techniques such as cross-validation, regularization, and early stopping can be used."
   ]
  },
  {
   "cell_type": "markdown",
   "id": "fe91f49e",
   "metadata": {},
   "source": [
    "2. What is underfitting in machine learning?\n",
    "\n",
    "When the model fits the training data poorly and performs well on new data\n",
    "\n",
    "\n",
    "\n",
    "Explanation: Underfitting occurs when a machine learning model is too simple and cannot capture the underlying patterns in the training data. As a result, it performs poorly on the training data and also on new or unseen data.\n",
    "\n",
    "\n",
    "Underfitting is a scenario in machine learning where a model is unable to accurately capture the relationship between the input and output variables1. This results in a model that performs poorly on both the training data and new, unseen data. In other words, an underfitted model has high bias but low variance1. To prevent underfitting, techniques such as increasing model complexity, adding more input features, and reducing regularization can be used.\n",
    "\n"
   ]
  },
  {
   "cell_type": "markdown",
   "id": "75271e10",
   "metadata": {},
   "source": [
    "3. What is the difference between overfitting and underfitting?\n",
    "\n",
    "\n",
    "Overfitting occurs when the model fits the training data too well, while underfitting occurs when the model fits the training data poorly\n",
    "\n",
    "\n",
    "\n",
    "\n",
    "Explanation: Overfitting and underfitting are two common problems in machine learning. Overfitting occurs when the model is too complex and fits the training data too well, while underfitting occurs when the model is too simple and cannot capture the underlying patterns in the training data.\n",
    "\n",
    "Overfitting and underfitting are two common problems in machine learning that can result in poor model performance. Overfitting occurs when a model learns the training data too well, including the noise and random fluctuations in the data. This results in a model that performs well on the training data but poorly on new, unseen data. In other words, an overfitted model has low bias but high variance. Underfitting, on the other hand, occurs when a model is unable to accurately capture the relationship between the input and output variables. This results in a model that performs poorly on both the training data and new, unseen data. In other words, an underfitted model has high bias but low variance.\n"
   ]
  },
  {
   "cell_type": "markdown",
   "id": "5b066d84",
   "metadata": {},
   "source": [
    "4. What is bias in machine learning?\n",
    "\n",
    "The tendency of the model to make systematic errors\n",
    "\n",
    "In machine learning, bias refers to the error that is introduced by approximating a real-world phenomenon with a simplified model1. It is the difference between the expected prediction of our model and the true values2. High bias can cause an algorithm to miss relevant relations between features and target outputs (underfitting)"
   ]
  },
  {
   "cell_type": "markdown",
   "id": "3c4d540f",
   "metadata": {},
   "source": [
    "5. What is variance in machine learning?\n",
    "\n",
    "\n",
    "The tendency of the model to make random errors\n",
    "\n",
    "\n",
    "In machine learning, variance refers to the amount by which the model’s predictions would change if it were trained on a different training set1. High variance can cause an algorithm to model the random noise in the training data, as well as the underlying relationships (overfitting)1."
   ]
  },
  {
   "cell_type": "markdown",
   "id": "8fd8b903",
   "metadata": {},
   "source": [
    "6. A machine learning model is trained on a dataset of 1000 images of cats and dogs. The model achieves 95% accuracy on the training set, but only 75% accuracy on a validation set of 500 images. What is the most likely problem with the model?\n",
    "\n",
    "\n",
    "Overfitting\n",
    "\n",
    "\n",
    "Explanation: The model has achieved high accuracy on the training set, but lower accuracy on the validation set, indicating that it has overfit the training data and is not generalizing well to new data.\n",
    " "
   ]
  },
  {
   "cell_type": "markdown",
   "id": "b4106161",
   "metadata": {},
   "source": [
    "7. A machine learning model is trained on a dataset of 1000 images of cats and dogs. The model achieves 90% accuracy on the training set and 85% accuracy on a validation set of 500 images. What is the most likely problem with the model?\n",
    "\n",
    "\n",
    "\n",
    "\n",
    "High variance\n",
    "\n",
    "\n",
    "Explanation: The model has achieved high accuracy on the training set, but lower accuracy on the validation set, indicating that it may be too complex and is fitting noise or random fluctuations in the training data."
   ]
  },
  {
   "cell_type": "code",
   "execution_count": null,
   "id": "d287c164",
   "metadata": {},
   "outputs": [],
   "source": []
  },
  {
   "cell_type": "markdown",
   "id": "79b79fdb",
   "metadata": {},
   "source": [
    "1.\n",
    "\n",
    "What is overfitting in machine learning?\n",
    "\n",
    "     When the model fits the training data too well and performs poorly on new data\n",
    "\n",
    "    When the model fits the training data poorly and performs well on new data\n",
    "\n",
    "     When the model performs equally well on training and new data\n",
    "\n",
    "    None of the above\n",
    "\n",
    "Explanation: Overfitting occurs when a machine learning model is too complex and tries to fit the noise or random fluctuations in the training data. As a result, it performs very well on the training data but poorly on new or unseen data.\n",
    "\n",
    "2.\n",
    "\n",
    " What is underfitting in machine learning?\n",
    "\n",
    "     When the model fits the training data too well and performs poorly on new data\n",
    "\n",
    "     When the model fits the training data poorly and performs well on new data\n",
    "\n",
    "    When the model performs equally well on training and new data\n",
    "\n",
    "     None of the above\n",
    "\n",
    "Explanation: Underfitting occurs when a machine learning model is too simple and cannot capture the underlying patterns in the training data. As a result, it performs poorly on the training data and also on new or unseen data.\n",
    "\n",
    "3.\n",
    "\n",
    "What is the difference between overfitting and underfitting?\n",
    "\n",
    "     Overfitting occurs when the model fits the training data too well, while underfitting occurs when the model fits the training data poorly\n",
    "\n",
    "     Overfitting occurs when the model fits the training data poorly, while underfitting occurs when the model fits the training data too well\n",
    "\n",
    "    Overfitting and underfitting are the same thing\n",
    "\n",
    "     None of the above\n",
    "\n",
    "Explanation: Overfitting and underfitting are two common problems in machine learning. Overfitting occurs when the model is too complex and fits the training data too well, while underfitting occurs when the model is too simple and cannot capture the underlying patterns in the training data.\n",
    "\n",
    "4.\n",
    "\n",
    "What is bias in machine learning?\n",
    "\n",
    "     The difference between the predicted values and the actual values\n",
    "\n",
    "     The tendency of the model to make systematic errors\n",
    "\n",
    "    The tendency of the model to make random errors\n",
    "\n",
    "    None of the above\n",
    "\n",
    "Explanation: Bias is the tendency of a machine learning model to make systematic errors, even when trained on large amounts of data. A model with high bias may underfit the data, while a model with low bias may overfit the data.\n",
    "5.\n",
    "\n",
    "What is variance in machine learning?\n",
    "\n",
    "    The difference between the predicted values and the actual values\n",
    "\n",
    "     The tendency of the model to make systematic errors\n",
    "\n",
    "     The tendency of the model to make random errors\n",
    "\n",
    "    None of the above\n",
    "\n",
    "Explanation: Variance is the tendency of a machine learning model to make random errors or noise, even when trained on large amounts of data. A model with high variance may overfit the data, while a model with low variance may underfit the data.\n",
    "6.\n",
    "\n",
    "A machine learning model is trained on a dataset of 1000 images of cats and dogs. The model achieves 95% accuracy on the training set, but only 75% accuracy on a validation set of 500 images. What is the most likely problem with the model?\n",
    "\n",
    " \n",
    "\n",
    "     Overfitting\n",
    "\n",
    "    Underfitting\n",
    "\n",
    "    High bias\n",
    "\n",
    "    High bias\n",
    "\n",
    "Explanation: The model has achieved high accuracy on the training set, but lower accuracy on the validation set, indicating that it has overfit the training data and is not generalizing well to new data.\n",
    "\n",
    "7.\n",
    "\n",
    "A machine learning model is trained on a dataset of 1000 images of cats and dogs. The model achieves 90% accuracy on the training set and 85% accuracy on a validation set of 500 images. What is the most likely problem with the model?\n",
    "\n",
    " \n",
    "\n",
    "     Overfitting\n",
    "\n",
    "    Underfitting\n",
    "\n",
    "     High bias\n",
    "\n",
    "    High variance\n",
    "\n",
    "Explanation: The model has achieved high accuracy on the training set, but lower accuracy on the validation set, indicating that it may be too complex and is fitting noise or random fluctuations in the training data."
   ]
  },
  {
   "cell_type": "code",
   "execution_count": null,
   "id": "a2d7079f",
   "metadata": {},
   "outputs": [],
   "source": []
  }
 ],
 "metadata": {
  "kernelspec": {
   "display_name": "Python 3 (ipykernel)",
   "language": "python",
   "name": "python3"
  },
  "language_info": {
   "codemirror_mode": {
    "name": "ipython",
    "version": 3
   },
   "file_extension": ".py",
   "mimetype": "text/x-python",
   "name": "python",
   "nbconvert_exporter": "python",
   "pygments_lexer": "ipython3",
   "version": "3.9.12"
  }
 },
 "nbformat": 4,
 "nbformat_minor": 5
}
